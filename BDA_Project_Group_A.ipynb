{
 "cells": [
  {
   "cell_type": "code",
   "execution_count": null,
   "metadata": {
    "colab": {
     "base_uri": "https://localhost:8080/"
    },
    "id": "zGSnVTNIhPKu",
    "outputId": "d568b1fe-445f-4a29-d950-91e3fdd8ad9b"
   },
   "outputs": [
    {
     "name": "stdout",
     "output_type": "stream",
     "text": [
      "Authenticated\n"
     ]
    }
   ],
   "source": [
    "from google.colab import auth\n",
    "auth.authenticate_user()\n",
    "print('Authenticated')"
   ]
  },
  {
   "cell_type": "markdown",
   "metadata": {
    "id": "unHSPNa61roN"
   },
   "source": [
    "<h3>This notebook pertains to a project done for a Big Data Analytics course</h3>\n",
    "<p>\n",
    "The main research questions that this project attempts to answer are: \n",
    "\n",
    "<p>How does the Stockholm housing market for apartments compare with AirBnB rentals? <p> - Do they have strong associations in any meaningful way and if so, can we uncover some of them?<p> - Additionally, the project also attempts to find features within the housing listings on Hemnet (Sweden's largest housing listing site) to build an apartment pricing predictor with an accuracy > 90%\n",
    "<p>\n",
    "\n",
    "Our main data sources are:\n",
    " - InsideAirBnB\n",
    " - Hemnet listings\n"
   ]
  },
  {
   "cell_type": "code",
   "execution_count": 1,
   "metadata": {
    "id": "AXXhuY8I1mDh"
   },
   "outputs": [],
   "source": [
    "# Import all necessary libraries\n",
    "import pandas as pd\n",
    "import numpy as np\n",
    "import seaborn as sb\n",
    "import matplotlib.pyplot as plt\n",
    "import time"
   ]
  },
  {
   "cell_type": "code",
   "execution_count": null,
   "metadata": {},
   "outputs": [],
   "source": [
    "#################\n",
    "# DATA COLLECTION\n",
    "#################\n",
    "\n",
    "# For AirBnB data, we used the open dataset available at http://insideairbnb.com/stockholm/\n",
    "# For Stockholm's housing data:\n",
    "# We created a fork (https://github.com/aeganskies/HemKop-SV)\n",
    "# of https://github.com/gustafvh/Apartment-ML-Predictor-Stockholm_-with-WebScraper-and-Data-Insights\n",
    "# to scrape real estate listings from www.hemnet.se\n",
    "# since the original repository was broken (older than 3 years) & was not updated with changes made to\n",
    "# Hemnet's website, changes in selenium packages & other needed refactorings to save the scraped data temporarily\n",
    "# in the case of system crashes or network outages (Total scraping time > 90 hours!)\n",
    "# These changes were made mostly in the Webscraper component, besides some changes for Geocoding the location\n",
    "# of the apartment listings\n",
    "\n",
    "%run main.py #DO NOT RUN THIS ON A WHIM! -> takes 90+ hours to scrape the data!!\n"
   ]
  },
  {
   "cell_type": "code",
   "execution_count": null,
   "metadata": {
    "id": "EbfuVsEt-leo"
   },
   "outputs": [],
   "source": [
    "################\n",
    "# PRE-PROCESSING\n",
    "################\n",
    "\n",
    "# Load the raw csv file\n",
    "df = pd.read_csv('/Data/RawDataFile.csv')\n",
    "\n",
    "# convert float64 datatypes to int64\n",
    "df['Date'] = df['Date'].astype(np.int64)\n",
    "df['Rooms'] = df['Rooms'].astype(np.int64)\n",
    "df['Rent'] = df['Rent'].astype(np.int64)\n",
    "df['Price'] = df['Price'].astype(np.int64)\n",
    "\n",
    "# create new Datetime column\n",
    "df['Datetime'] = pd.to_datetime(df['Date'].astype(str), format='%Y%m%d')\n",
    "\n",
    "# clean up broker/realtor names (remove the '\\n')\n",
    "df.Broker = [broker.replace('\\n', ' ') for broker in df.Broker]\n",
    "\n",
    "# remove duplicates\n",
    "df.drop_duplicates(subset=['Adress'], keep='last', inplace=True)\n",
    "\n",
    "# Add Price/square meter column (PricePerKvm)\n",
    "df['PricePerKvm'] = 0.0\n",
    "\n",
    "for i in range(0, len(df)):\n",
    "        df.at[i, 'PricePerKvm'] = round(df.at[i, 'Price'] / df.at[i, 'Size'], 0)\n",
    "\n",
    "df['PricePerKvm'] = df['PricePerKvm'].astype('float')\n",
    "\n",
    "# Save Cleaned data\n",
    "df.to_csv('./Data/CleanDataFile.csv', index=False)"
   ]
  },
  {
   "cell_type": "code",
   "execution_count": null,
   "metadata": {},
   "outputs": [],
   "source": [
    "# Add Geocoding -> this is rate limited to 5000 API calls per day.\n",
    "# Enter your own API key in a config.py file in the following format\n",
    "# yelp_api_key = \"MY_SECRET_KEY\"\n",
    "\n",
    "from YelpApi import updateDfWithYelpDetails\n",
    "\n",
    "# Read CSV and add Geocoding via Yelp API\n",
    "df = pd.read_csv('/Data/CleanDataFile.csv')\n",
    "df = updateDfWithYelpDetails(apData, 0, len(apData))\n",
    "df.to_csv('./Data/CleanHnetData.csv', index=False)"
   ]
  },
  {
   "cell_type": "code",
   "execution_count": 4,
   "metadata": {
    "id": "fng8aMPAbl8s"
   },
   "outputs": [
    {
     "name": "stdout",
     "output_type": "stream",
     "text": [
      "<class 'pandas.core.frame.DataFrame'>\n",
      "RangeIndex: 16700 entries, 0 to 16699\n",
      "Data columns (total 11 columns):\n",
      " #   Column       Non-Null Count  Dtype  \n",
      "---  ------       --------------  -----  \n",
      " 0   Date         16700 non-null  int64  \n",
      " 1   Adress       16700 non-null  object \n",
      " 2   Size         16700 non-null  float64\n",
      " 3   Rooms        16700 non-null  int64  \n",
      " 4   Broker       16700 non-null  object \n",
      " 5   Rent         16700 non-null  int64  \n",
      " 6   Price        16700 non-null  int64  \n",
      " 7   NearbyPOIs   16700 non-null  int64  \n",
      " 8   Latitude     16700 non-null  float64\n",
      " 9   Longitude    16700 non-null  float64\n",
      " 10  PricePerKvm  16700 non-null  float64\n",
      "dtypes: float64(4), int64(5), object(2)\n",
      "memory usage: 1.4+ MB\n"
     ]
    },
    {
     "data": {
      "image/png": "[encoded data removed]",
      "text/plain": [
       "<Figure size 640x480 with 1 Axes>"
      ]
     },
     "metadata": {},
     "output_type": "display_data"
    }
   ],
   "source": [
    "##################\n",
    "# DATA EXPLORATION\n",
    "##################\n",
    "\n",
    "df = pd.read_csv('./Data/CleanHnetData.csv')\n",
    "\n",
    "df.info()\n",
    "df.describe()\n",
    "\n",
    "# Check density & distribution via violin plot\n",
    "sb.violinplot(data=df, x='Price')\n",
    "\n",
    "# Remove large outliers for Rent & Price that skew the data\n",
    "quant_rent = df['Rent'].quantile(0.8)\n",
    "df = df[df['Rent'] < quant_rent]\n",
    "df = df[df['Rent'] > 0]\n",
    "\n",
    "quant_price = df['Price'].quantile(0.8)\n",
    "df = df[df['Price'] < quant_price]\n",
    "df = df[df['Price'] > 0]"
   ]
  },
  {
   "cell_type": "code",
   "execution_count": 5,
   "metadata": {
    "id": "Jgl4DdM0ut28"
   },
   "outputs": [
    {
     "name": "stdout",
     "output_type": "stream",
     "text": [
      "<class 'pandas.core.frame.DataFrame'>\n",
      "Int64Index: 10670 entries, 3952 to 16699\n",
      "Data columns (total 11 columns):\n",
      " #   Column       Non-Null Count  Dtype  \n",
      "---  ------       --------------  -----  \n",
      " 0   Date         10670 non-null  int64  \n",
      " 1   Adress       10670 non-null  object \n",
      " 2   Size         10670 non-null  float64\n",
      " 3   Rooms        10670 non-null  int64  \n",
      " 4   Broker       10670 non-null  object \n",
      " 5   Rent         10670 non-null  int64  \n",
      " 6   Price        10670 non-null  int64  \n",
      " 7   NearbyPOIs   10670 non-null  int64  \n",
      " 8   Latitude     10670 non-null  float64\n",
      " 9   Longitude    10670 non-null  float64\n",
      " 10  PricePerKvm  10670 non-null  float64\n",
      "dtypes: float64(4), int64(5), object(2)\n",
      "memory usage: 1000.3+ KB\n"
     ]
    },
    {
     "data": {
      "image/png": "[encoded data removed]",
      "text/plain": [
       "<Figure size 640x480 with 1 Axes>"
      ]
     },
     "metadata": {},
     "output_type": "display_data"
    }
   ],
   "source": [
    "# Check violin plot after removing large outliers\n",
    "sb.violinplot(data=df, x='Price')\n",
    "\n",
    "df.info()\n",
    "\n",
    "# Save normalized data file\n",
    "df.to_csv('./Data/NormDataFile.csv', index=False)"
   ]
  },
  {
   "cell_type": "code",
   "execution_count": 12,
   "metadata": {},
   "outputs": [
    {
     "name": "stdout",
     "output_type": "stream",
     "text": [
      "<class 'pandas.core.frame.DataFrame'>\n",
      "RangeIndex: 10670 entries, 0 to 10669\n",
      "Data columns (total 11 columns):\n",
      " #   Column       Non-Null Count  Dtype  \n",
      "---  ------       --------------  -----  \n",
      " 0   Date         10670 non-null  int64  \n",
      " 1   Adress       10670 non-null  object \n",
      " 2   Size         10670 non-null  float64\n",
      " 3   Rooms        10670 non-null  int64  \n",
      " 4   Broker       10670 non-null  object \n",
      " 5   Rent         10670 non-null  int64  \n",
      " 6   Price        10670 non-null  int64  \n",
      " 7   NearbyPOIs   10670 non-null  int64  \n",
      " 8   Latitude     10670 non-null  float64\n",
      " 9   Longitude    10670 non-null  float64\n",
      " 10  PricePerKvm  10670 non-null  float64\n",
      "dtypes: float64(4), int64(5), object(2)\n",
      "memory usage: 917.1+ KB\n",
      "None\n"
     ]
    },
    {
     "data": {
      "text/html": [
       "<table border=\"1\" class=\"dataframe\">\n",
       "  <thead>\n",
       "    <tr style=\"text-align: right;\">\n",
       "      <th></th>\n",
       "      <th>Date</th>\n",
       "      <th>Adress</th>\n",
       "      <th>Size</th>\n",
       "      <th>Rooms</th>\n",
       "      <th>Broker</th>\n",
       "      <th>Rent</th>\n",
       "      <th>Price</th>\n",
       "      <th>NearbyPOIs</th>\n",
       "      <th>Latitude</th>\n",
       "      <th>Longitude</th>\n",
       "      <th>PricePerKvm</th>\n",
       "    </tr>\n",
       "  </thead>\n",
       "  <tbody>\n",
       "    <tr>\n",
       "      <th>0</th>\n",
       "      <td>20211116</td>\n",
       "      <td>Hälsingegatan 6</td>\n",
       "      <td>63.0</td>\n",
       "      <td>2</td>\n",
       "      <td>Unknown</td>\n",
       "      <td>1938</td>\n",
       "      <td>7290000</td>\n",
       "      <td>822</td>\n",
       "      <td>59.343654</td>\n",
       "      <td>18.041611</td>\n",
       "      <td>115714.0</td>\n",
       "    </tr>\n",
       "    <tr>\n",
       "      <th>1</th>\n",
       "      <td>2014061</td>\n",
       "      <td>Hökens Gata 7</td>\n",
       "      <td>112.0</td>\n",
       "      <td>3</td>\n",
       "      <td>Unknown</td>\n",
       "      <td>4939</td>\n",
       "      <td>7280000</td>\n",
       "      <td>1500</td>\n",
       "      <td>59.318086</td>\n",
       "      <td>18.073196</td>\n",
       "      <td>65000.0</td>\n",
       "    </tr>\n",
       "    <tr>\n",
       "      <th>2</th>\n",
       "      <td>20220329</td>\n",
       "      <td>Henriksdalsallén 24B</td>\n",
       "      <td>83.0</td>\n",
       "      <td>3</td>\n",
       "      <td>Sara Wennertorp</td>\n",
       "      <td>4249</td>\n",
       "      <td>7280000</td>\n",
       "      <td>168</td>\n",
       "      <td>59.310727</td>\n",
       "      <td>18.104095</td>\n",
       "      <td>87711.0</td>\n",
       "    </tr>\n",
       "    <tr>\n",
       "      <th>3</th>\n",
       "      <td>20220312</td>\n",
       "      <td>Sjöviksvägen 59</td>\n",
       "      <td>80.5</td>\n",
       "      <td>3</td>\n",
       "      <td>Kristoffer Pettersson</td>\n",
       "      <td>4375</td>\n",
       "      <td>7275000</td>\n",
       "      <td>189</td>\n",
       "      <td>59.306522</td>\n",
       "      <td>18.031998</td>\n",
       "      <td>90373.0</td>\n",
       "    </tr>\n",
       "    <tr>\n",
       "      <th>4</th>\n",
       "      <td>20221118</td>\n",
       "      <td>Tideliusgränd 11</td>\n",
       "      <td>80.0</td>\n",
       "      <td>3</td>\n",
       "      <td>Hampus Schöllin</td>\n",
       "      <td>4195</td>\n",
       "      <td>7275000</td>\n",
       "      <td>907</td>\n",
       "      <td>59.311428</td>\n",
       "      <td>18.064957</td>\n",
       "      <td>90938.0</td>\n",
       "    </tr>\n",
       "  </tbody>\n",
       "</table>"
      ],
      "text/plain": [
       "<IPython.core.display.HTML object>"
      ]
     },
     "metadata": {},
     "output_type": "display_data"
    },
    {
     "name": "stdout",
     "output_type": "stream",
     "text": [
      "Predictions for 2668 apartments are off (MAE) by:\n",
      "349,609.00 SEK\n",
      "Predictions for 2668 apartments are off (MAPE) by:\n",
      "9.15 %\n"
     ]
    }
   ],
   "source": [
    "##################\n",
    "# PREDICTION MODEL\n",
    "##################\n",
    "\n",
    "# Build prediction mode using Random Forest Regression\n",
    "\n",
    "from sklearn.model_selection import train_test_split\n",
    "from sklearn.tree import DecisionTreeRegressor\n",
    "from sklearn.ensemble import RandomForestRegressor\n",
    "from sklearn.metrics import accuracy_score\n",
    "from sklearn.metrics import mean_absolute_error\n",
    "from sklearn.tree import DecisionTreeRegressor\n",
    "from xgboost import XGBRegressor\n",
    "from Model import getPredictions\n",
    "from ModelEvaluation import tryParameters\n",
    "from Accuracy import printMeanAbsoluteError, printMeanAbsolutePercentageError\n",
    "from VisualizeData import featureImportance, featuresCorrelation\n",
    "import warnings\n",
    "warnings.simplefilter('ignore', FutureWarning)\n",
    "from ipywidgets import interact, interactive, fixed, interact_manual\n",
    "import ipywidgets as widgets\n",
    "from IPython.display import display, HTML\n",
    "\n",
    "df = pd.read_csv('./Data/NormDataFile.csv')\n",
    "\n",
    "featuresToTrainOn = ['Rooms', 'Size', 'NearbyPOIs', 'Latitude', 'Longitude']\n",
    "target = 'Price'\n",
    "\n",
    "# # # # Predictions is array with predictions\n",
    "predictions, valPredictionTarget, model = getPredictions(\n",
    "    df, featuresToTrainOn, target)\n",
    "\n",
    "print(df.info())\n",
    "display(HTML(df.head().to_html()))\n",
    "\n",
    "printMeanAbsoluteError(predictions, valPredictionTarget)\n",
    "printMeanAbsolutePercentageError(predictions, valPredictionTarget)"
   ]
  },
  {
   "cell_type": "code",
   "execution_count": null,
   "metadata": {},
   "outputs": [],
   "source": []
  }
 ],
 "metadata": {
  "colab": {
   "provenance": []
  },
  "kernelspec": {
   "display_name": "Python 3 (ipykernel)",
   "language": "python",
   "name": "python3"
  },
  "language_info": {
   "codemirror_mode": {
    "name": "ipython",
    "version": 3
   },
   "file_extension": ".py",
   "mimetype": "text/x-python",
   "name": "python",
   "nbconvert_exporter": "python",
   "pygments_lexer": "ipython3",
   "version": "3.9.15"
  }
 },
 "nbformat": 4,
 "nbformat_minor": 1
}
